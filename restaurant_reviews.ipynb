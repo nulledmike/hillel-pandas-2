{
 "cells": [
  {
   "cell_type": "markdown",
   "id": "c2550340f8a64233",
   "metadata": {
    "collapsed": false
   },
   "source": [
    "# Restaurant Reviews Dataset Project\n",
    "\n",
    "This project involves generating a dataset of restaurant reviews using the `faker` library, performing exploratory data analysis, cleaning the data, engineering features, analyzing the data, and (optionally) visualizing the findings. The end goal is to gain insights into restaurant ratings and reviewer behaviors.\n",
    "\n",
    "## Setup and Dataset Generation\n",
    "\n",
    "First, we need to install the necessary libraries and generate our dataset using `faker`. The dataset will include restaurant names, reviewer names, review texts, ratings, dates of visit, and locations."
   ]
  },
  {
   "cell_type": "code",
   "execution_count": 1,
   "id": "54d48d921cecc193",
   "metadata": {
    "collapsed": false
   },
   "outputs": [],
   "source": [
    "import pandas as pd\n",
    "from faker import Faker\n",
    "import random\n",
    "import seaborn as sns\n",
    "import matplotlib.pyplot as plt\n",
    "\n",
    "# Initialize Faker and generate the dataset\n",
    "fake = Faker()\n",
    "\n",
    "data = []\n",
    "for _ in range(500):\n",
    "    data.append({\n",
    "        \"Restaurant Name\": fake.company(),\n",
    "        \"Reviewer Name\": fake.name(),\n",
    "        \"Review Text\": fake.text(max_nb_chars=200),  # Keep reviews concise\n",
    "        \"Rating\": random.randint(1, 5),\n",
    "        \"Date of Visit\": fake.date_between(start_date='-2y', end_date='today'),\n",
    "        \"Location\": fake.city()\n",
    "    })\n",
    "\n",
    "df = pd.DataFrame(data)\n",
    "df.to_csv('restaurant_reviews.csv', index=False)\n"
   ]
  },
  {
   "cell_type": "markdown",
   "id": "b4a0c6796957b410",
   "metadata": {
    "collapsed": false
   },
   "source": [
    "## As per task description, we must re-read the dataset from the file"
   ]
  },
  {
   "cell_type": "code",
   "execution_count": 2,
   "id": "aa75f80373553fd7",
   "metadata": {
    "collapsed": false
   },
   "outputs": [],
   "source": [
    "df = pd.read_csv('restaurant_reviews.csv')"
   ]
  },
  {
   "cell_type": "markdown",
   "id": "65b5f821d27da5d2",
   "metadata": {
    "collapsed": false
   },
   "source": [
    "## Data Exploration\n",
    "\n",
    "Let's start by getting a feel for the data. We will display the first ten rows and then print summary statistics for the numerical columns."
   ]
  },
  {
   "cell_type": "code",
   "execution_count": 3,
   "id": "868f357884110047",
   "metadata": {
    "collapsed": false
   },
   "outputs": [
    {
     "data": {
      "text/html": [
       "<div>\n",
       "<style scoped>\n",
       "    .dataframe tbody tr th:only-of-type {\n",
       "        vertical-align: middle;\n",
       "    }\n",
       "\n",
       "    .dataframe tbody tr th {\n",
       "        vertical-align: top;\n",
       "    }\n",
       "\n",
       "    .dataframe thead th {\n",
       "        text-align: right;\n",
       "    }\n",
       "</style>\n",
       "<table border=\"1\" class=\"dataframe\">\n",
       "  <thead>\n",
       "    <tr style=\"text-align: right;\">\n",
       "      <th></th>\n",
       "      <th>Restaurant Name</th>\n",
       "      <th>Reviewer Name</th>\n",
       "      <th>Review Text</th>\n",
       "      <th>Rating</th>\n",
       "      <th>Date of Visit</th>\n",
       "      <th>Location</th>\n",
       "    </tr>\n",
       "  </thead>\n",
       "  <tbody>\n",
       "    <tr>\n",
       "      <th>0</th>\n",
       "      <td>Cantrell-Barrera</td>\n",
       "      <td>Tonya Figueroa</td>\n",
       "      <td>Difference conference direction along operatio...</td>\n",
       "      <td>1</td>\n",
       "      <td>2023-06-09</td>\n",
       "      <td>Lake Christinaburgh</td>\n",
       "    </tr>\n",
       "    <tr>\n",
       "      <th>1</th>\n",
       "      <td>Wheeler Inc</td>\n",
       "      <td>Justin Myers</td>\n",
       "      <td>News standard push window land serve will plac...</td>\n",
       "      <td>2</td>\n",
       "      <td>2023-05-08</td>\n",
       "      <td>Williamschester</td>\n",
       "    </tr>\n",
       "    <tr>\n",
       "      <th>2</th>\n",
       "      <td>Anderson, Taylor and Richardson</td>\n",
       "      <td>Jeffrey Valentine</td>\n",
       "      <td>Age shake south. Give those society dog.\\nTrou...</td>\n",
       "      <td>2</td>\n",
       "      <td>2023-01-22</td>\n",
       "      <td>Grantbury</td>\n",
       "    </tr>\n",
       "    <tr>\n",
       "      <th>3</th>\n",
       "      <td>Hamilton-Nguyen</td>\n",
       "      <td>Kimberly Robbins</td>\n",
       "      <td>Work inside treatment east report among range....</td>\n",
       "      <td>4</td>\n",
       "      <td>2023-12-13</td>\n",
       "      <td>West Chloe</td>\n",
       "    </tr>\n",
       "    <tr>\n",
       "      <th>4</th>\n",
       "      <td>Cross, Garcia and Brennan</td>\n",
       "      <td>Lynn White</td>\n",
       "      <td>Them table wife table. Exactly step become art...</td>\n",
       "      <td>3</td>\n",
       "      <td>2022-06-03</td>\n",
       "      <td>Hannahton</td>\n",
       "    </tr>\n",
       "    <tr>\n",
       "      <th>5</th>\n",
       "      <td>Cunningham, Cruz and Mcdonald</td>\n",
       "      <td>Mariah Jenkins</td>\n",
       "      <td>Will family performance million many. Peace sm...</td>\n",
       "      <td>4</td>\n",
       "      <td>2023-05-19</td>\n",
       "      <td>Port Jennifer</td>\n",
       "    </tr>\n",
       "    <tr>\n",
       "      <th>6</th>\n",
       "      <td>Odonnell and Sons</td>\n",
       "      <td>Kelly Hale</td>\n",
       "      <td>Born although wish seek represent. Site out si...</td>\n",
       "      <td>2</td>\n",
       "      <td>2022-12-06</td>\n",
       "      <td>Port Danielle</td>\n",
       "    </tr>\n",
       "    <tr>\n",
       "      <th>7</th>\n",
       "      <td>Williams PLC</td>\n",
       "      <td>April Hoffman</td>\n",
       "      <td>Player rate whose drive theory beautiful party...</td>\n",
       "      <td>5</td>\n",
       "      <td>2022-05-07</td>\n",
       "      <td>Eileenmouth</td>\n",
       "    </tr>\n",
       "    <tr>\n",
       "      <th>8</th>\n",
       "      <td>Jimenez-Stewart</td>\n",
       "      <td>Carl Juarez</td>\n",
       "      <td>Garden defense laugh force. Most yeah front co...</td>\n",
       "      <td>3</td>\n",
       "      <td>2022-05-27</td>\n",
       "      <td>Whitehaven</td>\n",
       "    </tr>\n",
       "    <tr>\n",
       "      <th>9</th>\n",
       "      <td>Mcdaniel Inc</td>\n",
       "      <td>Jacqueline Stevens</td>\n",
       "      <td>Usually truth apply hand natural traditional. ...</td>\n",
       "      <td>3</td>\n",
       "      <td>2023-02-07</td>\n",
       "      <td>Austinton</td>\n",
       "    </tr>\n",
       "  </tbody>\n",
       "</table>\n",
       "</div>"
      ],
      "text/plain": [
       "                   Restaurant Name       Reviewer Name  \\\n",
       "0                 Cantrell-Barrera      Tonya Figueroa   \n",
       "1                      Wheeler Inc        Justin Myers   \n",
       "2  Anderson, Taylor and Richardson   Jeffrey Valentine   \n",
       "3                  Hamilton-Nguyen    Kimberly Robbins   \n",
       "4        Cross, Garcia and Brennan          Lynn White   \n",
       "5    Cunningham, Cruz and Mcdonald      Mariah Jenkins   \n",
       "6                Odonnell and Sons          Kelly Hale   \n",
       "7                     Williams PLC       April Hoffman   \n",
       "8                  Jimenez-Stewart         Carl Juarez   \n",
       "9                     Mcdaniel Inc  Jacqueline Stevens   \n",
       "\n",
       "                                         Review Text  Rating Date of Visit  \\\n",
       "0  Difference conference direction along operatio...       1    2023-06-09   \n",
       "1  News standard push window land serve will plac...       2    2023-05-08   \n",
       "2  Age shake south. Give those society dog.\\nTrou...       2    2023-01-22   \n",
       "3  Work inside treatment east report among range....       4    2023-12-13   \n",
       "4  Them table wife table. Exactly step become art...       3    2022-06-03   \n",
       "5  Will family performance million many. Peace sm...       4    2023-05-19   \n",
       "6  Born although wish seek represent. Site out si...       2    2022-12-06   \n",
       "7  Player rate whose drive theory beautiful party...       5    2022-05-07   \n",
       "8  Garden defense laugh force. Most yeah front co...       3    2022-05-27   \n",
       "9  Usually truth apply hand natural traditional. ...       3    2023-02-07   \n",
       "\n",
       "              Location  \n",
       "0  Lake Christinaburgh  \n",
       "1      Williamschester  \n",
       "2            Grantbury  \n",
       "3           West Chloe  \n",
       "4            Hannahton  \n",
       "5        Port Jennifer  \n",
       "6        Port Danielle  \n",
       "7          Eileenmouth  \n",
       "8           Whitehaven  \n",
       "9            Austinton  "
      ]
     },
     "execution_count": 3,
     "metadata": {},
     "output_type": "execute_result"
    }
   ],
   "source": [
    "# Display the first 10 rows of the dataset\n",
    "df.head(10)"
   ]
  },
  {
   "cell_type": "code",
   "execution_count": 4,
   "id": "5849bf5fe47f5adf",
   "metadata": {
    "collapsed": false
   },
   "outputs": [
    {
     "data": {
      "text/html": [
       "<div>\n",
       "<style scoped>\n",
       "    .dataframe tbody tr th:only-of-type {\n",
       "        vertical-align: middle;\n",
       "    }\n",
       "\n",
       "    .dataframe tbody tr th {\n",
       "        vertical-align: top;\n",
       "    }\n",
       "\n",
       "    .dataframe thead th {\n",
       "        text-align: right;\n",
       "    }\n",
       "</style>\n",
       "<table border=\"1\" class=\"dataframe\">\n",
       "  <thead>\n",
       "    <tr style=\"text-align: right;\">\n",
       "      <th></th>\n",
       "      <th>Rating</th>\n",
       "    </tr>\n",
       "  </thead>\n",
       "  <tbody>\n",
       "    <tr>\n",
       "      <th>count</th>\n",
       "      <td>500.000000</td>\n",
       "    </tr>\n",
       "    <tr>\n",
       "      <th>mean</th>\n",
       "      <td>2.948000</td>\n",
       "    </tr>\n",
       "    <tr>\n",
       "      <th>std</th>\n",
       "      <td>1.410416</td>\n",
       "    </tr>\n",
       "    <tr>\n",
       "      <th>min</th>\n",
       "      <td>1.000000</td>\n",
       "    </tr>\n",
       "    <tr>\n",
       "      <th>25%</th>\n",
       "      <td>2.000000</td>\n",
       "    </tr>\n",
       "    <tr>\n",
       "      <th>50%</th>\n",
       "      <td>3.000000</td>\n",
       "    </tr>\n",
       "    <tr>\n",
       "      <th>75%</th>\n",
       "      <td>4.000000</td>\n",
       "    </tr>\n",
       "    <tr>\n",
       "      <th>max</th>\n",
       "      <td>5.000000</td>\n",
       "    </tr>\n",
       "  </tbody>\n",
       "</table>\n",
       "</div>"
      ],
      "text/plain": [
       "           Rating\n",
       "count  500.000000\n",
       "mean     2.948000\n",
       "std      1.410416\n",
       "min      1.000000\n",
       "25%      2.000000\n",
       "50%      3.000000\n",
       "75%      4.000000\n",
       "max      5.000000"
      ]
     },
     "execution_count": 4,
     "metadata": {},
     "output_type": "execute_result"
    }
   ],
   "source": [
    "# Summary statistics for the numerical columns\n",
    "df.describe()"
   ]
  },
  {
   "cell_type": "markdown",
   "id": "da4d6ca12c569d9a",
   "metadata": {
    "collapsed": false
   },
   "source": [
    "## Data Cleaning\n",
    "\n",
    "We'll check for any missing values in our dataset and ensure all ratings fall within the 1 to 5 range, adjusting them if necessary."
   ]
  },
  {
   "cell_type": "code",
   "execution_count": 5,
   "id": "f22f0a958270260f",
   "metadata": {
    "collapsed": false
   },
   "outputs": [
    {
     "name": "stdout",
     "output_type": "stream",
     "text": [
      "Restaurant Name    0\n",
      "Reviewer Name      0\n",
      "Review Text        0\n",
      "Rating             0\n",
      "Date of Visit      0\n",
      "Location           0\n",
      "dtype: int64\n"
     ]
    }
   ],
   "source": [
    "# Check for any missing values\n",
    "print(df.isnull().sum())\n",
    "\n",
    "# Ensure ratings are within the 1 to 5 range\n",
    "df['Rating'] = df['Rating'].clip(1, 5)\n"
   ]
  },
  {
   "cell_type": "markdown",
   "id": "f070db3bf248a565",
   "metadata": {
    "collapsed": false
   },
   "source": [
    "## Feature Engineering\n",
    "\n",
    "To potentially uncover more insights, we'll add a new column that calculates the length of each review."
   ]
  },
  {
   "cell_type": "code",
   "outputs": [],
   "source": [
    "# Create a new column \"Review Length\"\n",
    "df['Review Length'] = df['Review Text'].apply(lambda x: len(x.split()))"
   ],
   "metadata": {
    "collapsed": false
   },
   "id": "8212c7eae3dc6502"
  },
  {
   "cell_type": "markdown",
   "id": "d862eee55e0d2852",
   "metadata": {
    "collapsed": false
   },
   "source": [
    "## Visualization (Optional)\n",
    "\n",
    "Visualizations can help us better understand the distribution of ratings and observe trends over time."
   ]
  },
  {
   "cell_type": "code",
   "execution_count": 5,
   "id": "74b4196445829e5e",
   "metadata": {
    "collapsed": false
   },
   "outputs": [
    {
     "data": {
      "image/png": "[encoded data removed]",
      "text/plain": [
       "<Figure size 640x480 with 1 Axes>"
      ]
     },
     "metadata": {},
     "output_type": "display_data"
    }
   ],
   "source": [
    "# Distribution of ratings\n",
    "sns.histplot(df['Rating'])\n",
    "plt.title('Distribution of Ratings')\n",
    "plt.show()"
   ]
  },
  {
   "cell_type": "markdown",
   "id": "1e1834c2aacfd29c",
   "metadata": {
    "collapsed": false
   },
   "source": [
    "## Exporting Results\n",
    "\n",
    "Finally, we save our cleaned and manipulated DataFrame to a new CSV file for future use or further analysis."
   ]
  },
  {
   "cell_type": "code",
   "execution_count": 6,
   "id": "37840db9f424fda9",
   "metadata": {
    "collapsed": false
   },
   "outputs": [],
   "source": [
    "df.to_csv('cleaned_restaurant_reviews.csv', index=False)"
   ]
  },
  {
   "cell_type": "markdown",
   "id": "9648a0f8c010a760",
   "metadata": {
    "collapsed": false
   },
   "source": [
    "# Conclusion\n",
    "\n",
    "In this notebook, we've generated a synthetic dataset of restaurant reviews, conducted exploratory data analysis, cleaned the data, engineered features, and performed detailed analysis to understand the dynamics of restaurant ratings and reviewer behavior. This project demonstrates the power of Python and Pandas for data manipulation and analysis."
   ]
  }
 ],
 "metadata": {
  "kernelspec": {
   "display_name": "Python 3 (ipykernel)",
   "language": "python",
   "name": "python3"
  },
  "language_info": {
   "codemirror_mode": {
    "name": "ipython",
    "version": 3
   },
   "file_extension": ".py",
   "mimetype": "text/x-python",
   "name": "python",
   "nbconvert_exporter": "python",
   "pygments_lexer": "ipython3",
   "version": "3.12.1"
  }
 },
 "nbformat": 4,
 "nbformat_minor": 5
}
